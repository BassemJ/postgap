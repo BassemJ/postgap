{
 "cells": [
  {
   "cell_type": "code",
   "execution_count": 1,
   "metadata": {
    "papermill": {
     "duration": 0.021776,
     "end_time": "2019-01-10T10:58:10.758526",
     "exception": false,
     "start_time": "2019-01-10T10:58:10.736750",
     "status": "completed"
    },
    "tags": [
     "default parameters"
    ]
   },
   "outputs": [],
   "source": [
    "# This cell contains default parameters values for execution by `papermill`.\n",
    "filename = '../sample_data/postgap.20180817.asthma.txt.gz'"
   ]
  },
  {
   "cell_type": "code",
   "execution_count": 2,
   "metadata": {
    "papermill": {
     "duration": 0.008635,
     "end_time": "2019-01-10T10:58:10.767854",
     "exception": false,
     "start_time": "2019-01-10T10:58:10.759219",
     "status": "completed"
    },
    "tags": [
     "parameters"
    ]
   },
   "outputs": [],
   "source": [
    "# Parameters\n",
    "filename = \"./sample_data/postgap.20180817.asthma.txt.gz\"\n"
   ]
  },
  {
   "cell_type": "markdown",
   "metadata": {
    "papermill": {
     "duration": 1.8e-05,
     "end_time": "2019-01-10T10:58:10.781141",
     "exception": false,
     "start_time": "2019-01-10T10:58:10.781123",
     "status": "completed"
    },
    "tags": []
   },
   "source": [
    "# POSTGAP Report\n",
    "This notebook was automatically generated as a summary of POSTGAP output."
   ]
  },
  {
   "cell_type": "markdown",
   "metadata": {
    "papermill": {
     "duration": 1.8e-05,
     "end_time": "2019-01-10T10:58:10.798953",
     "exception": false,
     "start_time": "2019-01-10T10:58:10.798935",
     "status": "completed"
    },
    "tags": []
   },
   "source": [
    "## Setup\n",
    "Note that for command line usage (`python reporter.py <filename>`) the following will work just fine. However, to edit the template, temporarily change the following to `import helpers`."
   ]
  },
  {
   "cell_type": "code",
   "execution_count": 3,
   "metadata": {
    "papermill": {
     "duration": 0.455952,
     "end_time": "2019-01-10T10:58:11.271311",
     "exception": false,
     "start_time": "2019-01-10T10:58:10.815359",
     "status": "completed"
    },
    "tags": []
   },
   "outputs": [],
   "source": [
    "from reports import helpers"
   ]
  },
  {
   "cell_type": "code",
   "execution_count": 4,
   "metadata": {
    "papermill": {
     "duration": 0.019166,
     "end_time": "2019-01-10T10:58:11.290636",
     "exception": false,
     "start_time": "2019-01-10T10:58:11.271470",
     "status": "completed"
    },
    "tags": []
   },
   "outputs": [
    {
     "name": "stdout",
     "output_type": "stream",
     "text": [
      "Notebook generated at 2019-01-10T10:58:11.273601 by gpeat\n"
     ]
    }
   ],
   "source": [
    "helpers.calc_run_str()"
   ]
  },
  {
   "cell_type": "code",
   "execution_count": 5,
   "metadata": {
    "papermill": {
     "duration": 4.880163,
     "end_time": "2019-01-10T10:58:16.173201",
     "exception": false,
     "start_time": "2019-01-10T10:58:11.293038",
     "status": "completed"
    },
    "tags": []
   },
   "outputs": [
    {
     "name": "stderr",
     "output_type": "stream",
     "text": [
      "/Users/gpeat/ensembl/postgap/tests/venv/lib/python3.6/site-packages/IPython/core/interactiveshell.py:2850: DtypeWarning: Columns (21,44) have mixed types. Specify dtype option on import or set low_memory=False.\n",
      "  if self.run_code(code, result):\n"
     ]
    }
   ],
   "source": [
    "# pg = pd.read_csv(filename, sep='\\t', na_values=['None'])\n",
    "pg = helpers.load_file(filename)"
   ]
  },
  {
   "cell_type": "markdown",
   "metadata": {
    "papermill": {
     "duration": 1.4e-05,
     "end_time": "2019-01-10T10:58:16.173385",
     "exception": false,
     "start_time": "2019-01-10T10:58:16.173371",
     "status": "completed"
    },
    "tags": []
   },
   "source": [
    "## Headline"
   ]
  },
  {
   "cell_type": "markdown",
   "metadata": {
    "papermill": {
     "duration": 1.8e-05,
     "end_time": "2019-01-10T10:58:16.193640",
     "exception": false,
     "start_time": "2019-01-10T10:58:16.193622",
     "status": "completed"
    },
    "tags": []
   },
   "source": [
    "**Q:** How many rows and columns?"
   ]
  },
  {
   "cell_type": "code",
   "execution_count": 6,
   "metadata": {
    "papermill": {
     "duration": 0.013126,
     "end_time": "2019-01-10T10:58:16.224977",
     "exception": false,
     "start_time": "2019-01-10T10:58:16.211851",
     "status": "completed"
    },
    "tags": []
   },
   "outputs": [
    {
     "name": "stdout",
     "output_type": "stream",
     "text": [
      "(189351, 99)\n"
     ]
    }
   ],
   "source": [
    "print(pg.shape)"
   ]
  },
  {
   "cell_type": "markdown",
   "metadata": {
    "papermill": {
     "duration": 1.4e-05,
     "end_time": "2019-01-10T10:58:16.233058",
     "exception": false,
     "start_time": "2019-01-10T10:58:16.233044",
     "status": "completed"
    },
    "tags": []
   },
   "source": [
    "**Q:** How many unique target-disease associations?"
   ]
  },
  {
   "cell_type": "code",
   "execution_count": 7,
   "metadata": {
    "papermill": {
     "duration": 0.038294,
     "end_time": "2019-01-10T10:58:16.288674",
     "exception": false,
     "start_time": "2019-01-10T10:58:16.250380",
     "status": "completed"
    },
    "tags": []
   },
   "outputs": [
    {
     "data": {
      "text/html": [
       "<table border=\"1\" class=\"dataframe\">\n",
       "  <thead>\n",
       "    <tr style=\"text-align: right;\">\n",
       "      <th>field_pair</th>\n",
       "      <th>unique_associations</th>\n",
       "    </tr>\n",
       "  </thead>\n",
       "  <tbody>\n",
       "    <tr>\n",
       "      <td>[gene_id, disease_efo_id]</td>\n",
       "      <td>4377</td>\n",
       "    </tr>\n",
       "  </tbody>\n",
       "</table>"
      ],
      "text/plain": [
       "<IPython.core.display.HTML object>"
      ]
     },
     "metadata": {},
     "output_type": "display_data"
    }
   ],
   "source": [
    "helpers.calc_g2d_pair_counts(pg)"
   ]
  },
  {
   "cell_type": "markdown",
   "metadata": {
    "papermill": {
     "duration": 1.2e-05,
     "end_time": "2019-01-10T10:58:16.288843",
     "exception": false,
     "start_time": "2019-01-10T10:58:16.288831",
     "status": "completed"
    },
    "tags": []
   },
   "source": [
    "**Q:** What is the distribution of unique diseases per gene? And vice versa?"
   ]
  },
  {
   "cell_type": "code",
   "execution_count": 8,
   "metadata": {
    "papermill": {
     "duration": 1.103942,
     "end_time": "2019-01-10T10:58:17.411920",
     "exception": false,
     "start_time": "2019-01-10T10:58:16.307978",
     "status": "completed"
    },
    "tags": []
   },
   "outputs": [
    {
     "name": "stderr",
     "output_type": "stream",
     "text": [
      "/Users/gpeat/ensembl/postgap/tests/venv/lib/python3.6/site-packages/matplotlib/axes/_base.py:3285: UserWarning: Attempting to set identical bottom==top results\n",
      "in singular transformations; automatically expanding.\n",
      "bottom=1.0, top=1.0\n",
      "  'bottom=%s, top=%s') % (bottom, top))\n"
     ]
    },
    {
     "data": {
      "image/png": "[encoded data removed]",
      "text/plain": [
       "<matplotlib.figure.Figure at 0x114e7b5f8>"
      ]
     },
     "metadata": {},
     "output_type": "display_data"
    }
   ],
   "source": [
    "helpers.calc_pairwise_degree_dist(pg, 'gene_id', 'disease_efo_id', 'Gene', 'Disease')"
   ]
  },
  {
   "cell_type": "markdown",
   "metadata": {
    "papermill": {
     "duration": 1.2e-05,
     "end_time": "2019-01-10T10:58:17.412090",
     "exception": false,
     "start_time": "2019-01-10T10:58:17.412078",
     "status": "completed"
    },
    "tags": []
   },
   "source": [
    "## Identifiers"
   ]
  },
  {
   "cell_type": "markdown",
   "metadata": {
    "papermill": {
     "duration": 5.2e-05,
     "end_time": "2019-01-10T10:58:17.432936",
     "exception": false,
     "start_time": "2019-01-10T10:58:17.432884",
     "status": "completed"
    },
    "tags": []
   },
   "source": [
    "**Q:** How many unique values appear for each identifier?"
   ]
  },
  {
   "cell_type": "code",
   "execution_count": 9,
   "metadata": {
    "papermill": {
     "duration": 0.039698,
     "end_time": "2019-01-10T10:58:17.491598",
     "exception": false,
     "start_time": "2019-01-10T10:58:17.451900",
     "status": "completed"
    },
    "tags": []
   },
   "outputs": [
    {
     "data": {
      "text/html": [
       "<table border=\"1\" class=\"dataframe\">\n",
       "  <thead>\n",
       "    <tr style=\"text-align: right;\">\n",
       "      <th>field</th>\n",
       "      <th>unique_values</th>\n",
       "    </tr>\n",
       "  </thead>\n",
       "  <tbody>\n",
       "    <tr>\n",
       "      <td>gene_id</td>\n",
       "      <td>4377</td>\n",
       "    </tr>\n",
       "    <tr>\n",
       "      <td>ld_snp_rsID</td>\n",
       "      <td>8104</td>\n",
       "    </tr>\n",
       "    <tr>\n",
       "      <td>gwas_snp</td>\n",
       "      <td>458</td>\n",
       "    </tr>\n",
       "    <tr>\n",
       "      <td>disease_efo_id</td>\n",
       "      <td>1</td>\n",
       "    </tr>\n",
       "    <tr>\n",
       "      <td>gwas_pmid</td>\n",
       "      <td>39</td>\n",
       "    </tr>\n",
       "  </tbody>\n",
       "</table>"
      ],
      "text/plain": [
       "<IPython.core.display.HTML object>"
      ]
     },
     "metadata": {},
     "output_type": "display_data"
    }
   ],
   "source": [
    "helpers.calc_id_field_counts(pg)"
   ]
  },
  {
   "cell_type": "markdown",
   "metadata": {
    "papermill": {
     "duration": 1.1e-05,
     "end_time": "2019-01-10T10:58:17.491685",
     "exception": false,
     "start_time": "2019-01-10T10:58:17.491674",
     "status": "completed"
    },
    "tags": []
   },
   "source": [
    "**Q:** What is the maximum number of rows for a given fixed identifier?"
   ]
  },
  {
   "cell_type": "code",
   "execution_count": 10,
   "metadata": {
    "papermill": {
     "duration": 0.092147,
     "end_time": "2019-01-10T10:58:17.604093",
     "exception": false,
     "start_time": "2019-01-10T10:58:17.511946",
     "status": "completed"
    },
    "tags": []
   },
   "outputs": [
    {
     "data": {
      "text/html": [
       "<table border=\"1\" class=\"dataframe\">\n",
       "  <thead>\n",
       "    <tr style=\"text-align: right;\">\n",
       "      <th>gene_id</th>\n",
       "      <th>row_occurrences</th>\n",
       "    </tr>\n",
       "  </thead>\n",
       "  <tbody>\n",
       "    <tr>\n",
       "      <td>ENSG00000073605</td>\n",
       "      <td>1312</td>\n",
       "    </tr>\n",
       "    <tr>\n",
       "      <td>ENSG00000186075</td>\n",
       "      <td>1295</td>\n",
       "    </tr>\n",
       "    <tr>\n",
       "      <td>ENSG00000141741</td>\n",
       "      <td>1293</td>\n",
       "    </tr>\n",
       "  </tbody>\n",
       "</table>"
      ],
      "text/plain": [
       "<IPython.core.display.HTML object>"
      ]
     },
     "metadata": {},
     "output_type": "display_data"
    },
    {
     "data": {
      "text/html": [
       "<table border=\"1\" class=\"dataframe\">\n",
       "  <thead>\n",
       "    <tr style=\"text-align: right;\">\n",
       "      <th>ld_snp_rsID</th>\n",
       "      <th>row_occurrences</th>\n",
       "    </tr>\n",
       "  </thead>\n",
       "  <tbody>\n",
       "    <tr>\n",
       "      <td>rs11669540</td>\n",
       "      <td>504</td>\n",
       "    </tr>\n",
       "    <tr>\n",
       "      <td>rs11557466</td>\n",
       "      <td>500</td>\n",
       "    </tr>\n",
       "    <tr>\n",
       "      <td>rs12939832</td>\n",
       "      <td>500</td>\n",
       "    </tr>\n",
       "  </tbody>\n",
       "</table>"
      ],
      "text/plain": [
       "<IPython.core.display.HTML object>"
      ]
     },
     "metadata": {},
     "output_type": "display_data"
    },
    {
     "data": {
      "text/html": [
       "<table border=\"1\" class=\"dataframe\">\n",
       "  <thead>\n",
       "    <tr style=\"text-align: right;\">\n",
       "      <th>gwas_snp</th>\n",
       "      <th>row_occurrences</th>\n",
       "    </tr>\n",
       "  </thead>\n",
       "  <tbody>\n",
       "    <tr>\n",
       "      <td>rs16989837</td>\n",
       "      <td>8331</td>\n",
       "    </tr>\n",
       "    <tr>\n",
       "      <td>rs7216389</td>\n",
       "      <td>5796</td>\n",
       "    </tr>\n",
       "    <tr>\n",
       "      <td>rs2305480</td>\n",
       "      <td>5768</td>\n",
       "    </tr>\n",
       "  </tbody>\n",
       "</table>"
      ],
      "text/plain": [
       "<IPython.core.display.HTML object>"
      ]
     },
     "metadata": {},
     "output_type": "display_data"
    },
    {
     "data": {
      "text/html": [
       "<table border=\"1\" class=\"dataframe\">\n",
       "  <thead>\n",
       "    <tr style=\"text-align: right;\">\n",
       "      <th>disease_efo_id</th>\n",
       "      <th>row_occurrences</th>\n",
       "    </tr>\n",
       "  </thead>\n",
       "  <tbody>\n",
       "    <tr>\n",
       "      <td>EFO_0000270</td>\n",
       "      <td>189351</td>\n",
       "    </tr>\n",
       "  </tbody>\n",
       "</table>"
      ],
      "text/plain": [
       "<IPython.core.display.HTML object>"
      ]
     },
     "metadata": {},
     "output_type": "display_data"
    },
    {
     "data": {
      "text/html": [
       "<table border=\"1\" class=\"dataframe\">\n",
       "  <thead>\n",
       "    <tr style=\"text-align: right;\">\n",
       "      <th>gwas_pmid</th>\n",
       "      <th>row_occurrences</th>\n",
       "    </tr>\n",
       "  </thead>\n",
       "  <tbody>\n",
       "    <tr>\n",
       "      <td>PMID29273806</td>\n",
       "      <td>37141</td>\n",
       "    </tr>\n",
       "    <tr>\n",
       "      <td>PMID27611488</td>\n",
       "      <td>23188</td>\n",
       "    </tr>\n",
       "    <tr>\n",
       "      <td>PMID28461288</td>\n",
       "      <td>16932</td>\n",
       "    </tr>\n",
       "  </tbody>\n",
       "</table>"
      ],
      "text/plain": [
       "<IPython.core.display.HTML object>"
      ]
     },
     "metadata": {},
     "output_type": "display_data"
    }
   ],
   "source": [
    "helpers.calc_id_field_max_rows(pg)"
   ]
  },
  {
   "cell_type": "markdown",
   "metadata": {
    "papermill": {
     "duration": 1.4e-05,
     "end_time": "2019-01-10T10:58:17.604274",
     "exception": false,
     "start_time": "2019-01-10T10:58:17.604260",
     "status": "completed"
    },
    "tags": []
   },
   "source": [
    "## Identifier pairs"
   ]
  },
  {
   "cell_type": "markdown",
   "metadata": {
    "papermill": {
     "duration": 1.8e-05,
     "end_time": "2019-01-10T10:58:17.628676",
     "exception": false,
     "start_time": "2019-01-10T10:58:17.628658",
     "status": "completed"
    },
    "tags": []
   },
   "source": [
    "**Q:** How many unique identifier pairs appear?"
   ]
  },
  {
   "cell_type": "code",
   "execution_count": 11,
   "metadata": {
    "papermill": {
     "duration": 0.140483,
     "end_time": "2019-01-10T10:58:17.792582",
     "exception": false,
     "start_time": "2019-01-10T10:58:17.652099",
     "status": "completed"
    },
    "tags": []
   },
   "outputs": [
    {
     "data": {
      "text/html": [
       "<table border=\"1\" class=\"dataframe\">\n",
       "  <thead>\n",
       "    <tr style=\"text-align: right;\">\n",
       "      <th>field_pair</th>\n",
       "      <th>unique_associations</th>\n",
       "    </tr>\n",
       "  </thead>\n",
       "  <tbody>\n",
       "    <tr>\n",
       "      <td>[gene_id, ld_snp_rsID]</td>\n",
       "      <td>117424</td>\n",
       "    </tr>\n",
       "    <tr>\n",
       "      <td>[ld_snp_rsID, gwas_snp]</td>\n",
       "      <td>10466</td>\n",
       "    </tr>\n",
       "    <tr>\n",
       "      <td>[gwas_snp, disease_efo_id]</td>\n",
       "      <td>458</td>\n",
       "    </tr>\n",
       "    <tr>\n",
       "      <td>[disease_efo_id, gwas_pmid]</td>\n",
       "      <td>39</td>\n",
       "    </tr>\n",
       "  </tbody>\n",
       "</table>"
      ],
      "text/plain": [
       "<IPython.core.display.HTML object>"
      ]
     },
     "metadata": {},
     "output_type": "display_data"
    }
   ],
   "source": [
    "helpers.calc_id_field_pair_counts(pg)"
   ]
  },
  {
   "cell_type": "markdown",
   "metadata": {
    "papermill": {
     "duration": 1.6e-05,
     "end_time": "2019-01-10T10:58:17.792801",
     "exception": false,
     "start_time": "2019-01-10T10:58:17.792785",
     "status": "completed"
    },
    "tags": []
   },
   "source": [
    "## Gene-LD SNP associations"
   ]
  },
  {
   "cell_type": "markdown",
   "metadata": {
    "papermill": {
     "duration": 2e-05,
     "end_time": "2019-01-10T10:58:17.819740",
     "exception": false,
     "start_time": "2019-01-10T10:58:17.819720",
     "status": "completed"
    },
    "tags": []
   },
   "source": [
    "**Q:** What is the distribution of each association subscore (`VEP`, `GTEx`, etc.)?"
   ]
  },
  {
   "cell_type": "code",
   "execution_count": 12,
   "metadata": {
    "papermill": {
     "duration": 3.329922,
     "end_time": "2019-01-10T10:58:21.175152",
     "exception": false,
     "start_time": "2019-01-10T10:58:17.845230",
     "status": "completed"
    },
    "tags": []
   },
   "outputs": [
    {
     "data": {
      "image/png": "[encoded data removed]",
      "text/plain": [
       "<matplotlib.figure.Figure at 0x113d21978>"
      ]
     },
     "metadata": {},
     "output_type": "display_data"
    }
   ],
   "source": [
    "helpers.calc_g2v_field_hists(pg)"
   ]
  },
  {
   "cell_type": "markdown",
   "metadata": {
    "papermill": {
     "duration": 1.2e-05,
     "end_time": "2019-01-10T10:58:21.175321",
     "exception": false,
     "start_time": "2019-01-10T10:58:21.175309",
     "status": "completed"
    },
    "tags": []
   },
   "source": [
    "**Q:** What is the distribution of unique LD SNPs per gene? And vice versa?"
   ]
  },
  {
   "cell_type": "code",
   "execution_count": 13,
   "metadata": {
    "papermill": {
     "duration": 1.133192,
     "end_time": "2019-01-10T10:58:22.334743",
     "exception": false,
     "start_time": "2019-01-10T10:58:21.201551",
     "status": "completed"
    },
    "tags": []
   },
   "outputs": [
    {
     "data": {
      "image/png": "[encoded data removed]",
      "text/plain": [
       "<matplotlib.figure.Figure at 0x113c1cbe0>"
      ]
     },
     "metadata": {},
     "output_type": "display_data"
    }
   ],
   "source": [
    "helpers.calc_pairwise_degree_dist(pg, 'gene_id', 'ld_snp_rsID', 'Gene', 'LD SNP')"
   ]
  },
  {
   "cell_type": "markdown",
   "metadata": {
    "papermill": {
     "duration": 3.1e-05,
     "end_time": "2019-01-10T10:58:22.334927",
     "exception": false,
     "start_time": "2019-01-10T10:58:22.334896",
     "status": "completed"
    },
    "tags": []
   },
   "source": [
    "**Q:** What is the overlap between presence of association subscores?"
   ]
  },
  {
   "cell_type": "code",
   "execution_count": 14,
   "metadata": {
    "papermill": {
     "duration": 11.763,
     "end_time": "2019-01-10T10:58:34.124782",
     "exception": false,
     "start_time": "2019-01-10T10:58:22.361782",
     "status": "completed"
    },
    "tags": []
   },
   "outputs": [
    {
     "name": "stdout",
     "output_type": "stream",
     "text": [
      "['GTEx']                                          99950\n",
      "['PCHiC', 'GTEx']                                  5125\n",
      "['GTEx', 'Nearest']                                3807\n",
      "['PCHiC']                                          2173\n",
      "['VEP', 'GTEx', 'Nearest']                         2065\n",
      "['VEP', 'GTEx']                                    1591\n",
      "['Nearest']                                         585\n",
      "['VEP', 'PCHiC', 'GTEx', 'Nearest']                 404\n",
      "['VEP', 'Nearest']                                  366\n",
      "['VEP']                                             282\n",
      "['GTEx', 'DHS']                                     262\n",
      "['PCHiC', 'GTEx', 'Nearest']                        227\n",
      "['VEP', 'PCHiC', 'GTEx']                            135\n",
      "['Regulome', 'GTEx']                                 84\n",
      "['VEP', 'PCHiC', 'Nearest']                          52\n",
      "['GTEx', 'Fantom5']                                  49\n",
      "['DHS']                                              35\n",
      "['PCHiC', 'GTEx', 'DHS']                             32\n",
      "['VEP', 'GTEx', 'DHS', 'Nearest']                    28\n",
      "['VEP', 'PCHiC']                                     27\n",
      "['PCHiC', 'Nearest']                                 27\n",
      "['GTEx', 'DHS', 'Nearest']                            9\n",
      "['PCHiC', 'GTEx', 'Fantom5']                          9\n",
      "['VEP', 'GTEx', 'DHS']                                9\n",
      "['VEP', 'PCHiC', 'GTEx', 'Fantom5', 'Nearest']        8\n",
      "['GTEx', 'Fantom5', 'Nearest']                        7\n",
      "['Regulome', 'PCHiC', 'GTEx']                         7\n",
      "['Regulome', 'PCHiC']                                 7\n",
      "['VEP', 'GTEx', 'Fantom5', 'Nearest']                 7\n",
      "['Fantom5']                                           5\n",
      "['PCHiC', 'Fantom5']                                  5\n",
      "['GTEx', 'Fantom5', 'DHS']                            4\n",
      "['PCHiC', 'DHS']                                      4\n",
      "['DHS', 'Nearest']                                    3\n",
      "['Regulome', 'GTEx', 'Nearest']                       3\n",
      "['VEP', 'Regulome', 'GTEx', 'Nearest']                3\n",
      "['VEP', 'DHS', 'Nearest']                             3\n",
      "['VEP', 'DHS']                                        3\n",
      "['PCHiC', 'GTEx', 'Fantom5', 'Nearest']               2\n",
      "['VEP', 'Regulome']                                   2\n",
      "['VEP', 'Fantom5']                                    2\n",
      "['VEP', 'PCHiC', 'GTEx', 'DHS', 'Nearest']            2\n",
      "['VEP', 'PCHiC', 'GTEx', 'DHS']                       2\n",
      "['Regulome', 'Nearest']                               2\n",
      "['VEP', 'GTEx', 'Fantom5']                            2\n",
      "['VEP', 'GTEx', 'Fantom5', 'DHS', 'Nearest']          1\n",
      "['PCHiC', 'GTEx', 'Fantom5', 'DHS']                   1\n",
      "['VEP', 'PCHiC', 'DHS']                               1\n",
      "['VEP', 'PCHiC', 'Fantom5', 'Nearest']                1\n",
      "['VEP', 'Regulome', 'PCHiC', 'Nearest']               1\n",
      "['VEP', 'Regulome', 'GTEx']                           1\n",
      "['VEP', 'PCHiC', 'GTEx', 'Fantom5']                   1\n",
      "['VEP', 'Regulome', 'Nearest']                        1\n",
      "dtype: int64\n"
     ]
    }
   ],
   "source": [
    "helpers.calc_g2v_field_overlap(pg)"
   ]
  },
  {
   "cell_type": "markdown",
   "metadata": {
    "papermill": {
     "duration": 1.3e-05,
     "end_time": "2019-01-10T10:58:34.124955",
     "exception": false,
     "start_time": "2019-01-10T10:58:34.124942",
     "status": "completed"
    },
    "tags": []
   },
   "source": [
    "**Q:** What is the joint distribution between association subscore pairs (ie. how correlated are they)?"
   ]
  },
  {
   "cell_type": "code",
   "execution_count": 15,
   "metadata": {
    "papermill": {
     "duration": 2.377857,
     "end_time": "2019-01-10T10:58:36.529456",
     "exception": false,
     "start_time": "2019-01-10T10:58:34.151599",
     "status": "completed"
    },
    "tags": []
   },
   "outputs": [
    {
     "data": {
      "image/png": "[encoded data removed]",
      "text/plain": [
       "<matplotlib.figure.Figure at 0x116145550>"
      ]
     },
     "metadata": {},
     "output_type": "display_data"
    }
   ],
   "source": [
    "helpers.calc_g2v_field_cross_dists(pg)"
   ]
  },
  {
   "cell_type": "markdown",
   "metadata": {
    "papermill": {
     "duration": 3.1e-05,
     "end_time": "2019-01-10T10:58:36.529642",
     "exception": false,
     "start_time": "2019-01-10T10:58:36.529611",
     "status": "completed"
    },
    "tags": []
   },
   "source": [
    "## LD SNP-GWAS SNP associations"
   ]
  },
  {
   "cell_type": "markdown",
   "metadata": {
    "papermill": {
     "duration": 3.2e-05,
     "end_time": "2019-01-10T10:58:36.569303",
     "exception": false,
     "start_time": "2019-01-10T10:58:36.569271",
     "status": "completed"
    },
    "tags": []
   },
   "source": [
    "**Q:** What is the distribution of `r2`?"
   ]
  },
  {
   "cell_type": "code",
   "execution_count": 16,
   "metadata": {
    "papermill": {
     "duration": 0.521964,
     "end_time": "2019-01-10T10:58:37.121711",
     "exception": false,
     "start_time": "2019-01-10T10:58:36.599747",
     "status": "completed"
    },
    "tags": []
   },
   "outputs": [
    {
     "data": {
      "image/png": "[encoded data removed]",
      "text/plain": [
       "<matplotlib.figure.Figure at 0x10fd765c0>"
      ]
     },
     "metadata": {},
     "output_type": "display_data"
    }
   ],
   "source": [
    "helpers.calc_dist_r2(pg)"
   ]
  },
  {
   "cell_type": "markdown",
   "metadata": {
    "papermill": {
     "duration": 4.4e-05,
     "end_time": "2019-01-10T10:58:37.121910",
     "exception": false,
     "start_time": "2019-01-10T10:58:37.121866",
     "status": "completed"
    },
    "tags": []
   },
   "source": [
    "**Q:** What is the distribution of unique GWAS SNPs per LD SNP? And vice versa?"
   ]
  },
  {
   "cell_type": "code",
   "execution_count": 17,
   "metadata": {
    "papermill": {
     "duration": 1.072405,
     "end_time": "2019-01-10T10:58:38.223717",
     "exception": false,
     "start_time": "2019-01-10T10:58:37.151312",
     "status": "completed"
    },
    "tags": []
   },
   "outputs": [
    {
     "data": {
      "image/png": "[encoded data removed]",
      "text/plain": [
       "<matplotlib.figure.Figure at 0x11613dc50>"
      ]
     },
     "metadata": {},
     "output_type": "display_data"
    }
   ],
   "source": [
    "helpers.calc_pairwise_degree_dist(pg, 'ld_snp_rsID', 'gwas_snp', 'LD SNP', 'GWAS SNP')"
   ]
  },
  {
   "cell_type": "markdown",
   "metadata": {
    "papermill": {
     "duration": 4.5e-05,
     "end_time": "2019-01-10T10:58:38.223924",
     "exception": false,
     "start_time": "2019-01-10T10:58:38.223879",
     "status": "completed"
    },
    "tags": []
   },
   "source": [
    "## GWAS SNP-Disease associations"
   ]
  },
  {
   "cell_type": "markdown",
   "metadata": {
    "papermill": {
     "duration": 1.8e-05,
     "end_time": "2019-01-10T10:58:38.255495",
     "exception": false,
     "start_time": "2019-01-10T10:58:38.255477",
     "status": "completed"
    },
    "tags": []
   },
   "source": [
    "**Q:** What are the distributions of (`gwas_pvalue`, `gwas_beta`, `gwas_odds_ratio`)?"
   ]
  },
  {
   "cell_type": "code",
   "execution_count": 18,
   "metadata": {
    "papermill": {
     "duration": 1.487343,
     "end_time": "2019-01-10T10:58:39.772824",
     "exception": false,
     "start_time": "2019-01-10T10:58:38.285481",
     "status": "completed"
    },
    "tags": []
   },
   "outputs": [
    {
     "data": {
      "image/png": "[encoded data removed]",
      "text/plain": [
       "<matplotlib.figure.Figure at 0x115878e80>"
      ]
     },
     "metadata": {},
     "output_type": "display_data"
    }
   ],
   "source": [
    "helpers.calc_v2d_field_hists(pg)"
   ]
  },
  {
   "cell_type": "markdown",
   "metadata": {
    "papermill": {
     "duration": 2.9e-05,
     "end_time": "2019-01-10T10:58:39.773055",
     "exception": false,
     "start_time": "2019-01-10T10:58:39.773026",
     "status": "completed"
    },
    "tags": []
   },
   "source": [
    "**Q:** What is the distribution of unique diseases per GWAS SNP? And vice versa?"
   ]
  },
  {
   "cell_type": "code",
   "execution_count": 19,
   "metadata": {
    "papermill": {
     "duration": 0.961816,
     "end_time": "2019-01-10T10:58:40.767309",
     "exception": false,
     "start_time": "2019-01-10T10:58:39.805493",
     "status": "completed"
    },
    "tags": []
   },
   "outputs": [
    {
     "name": "stderr",
     "output_type": "stream",
     "text": [
      "/Users/gpeat/ensembl/postgap/tests/venv/lib/python3.6/site-packages/matplotlib/axes/_base.py:3285: UserWarning: Attempting to set identical bottom==top results\n",
      "in singular transformations; automatically expanding.\n",
      "bottom=1.0, top=1.0\n",
      "  'bottom=%s, top=%s') % (bottom, top))\n"
     ]
    },
    {
     "data": {
      "image/png": "[encoded data removed]",
      "text/plain": [
       "<matplotlib.figure.Figure at 0x11602acc0>"
      ]
     },
     "metadata": {},
     "output_type": "display_data"
    }
   ],
   "source": [
    "helpers.calc_pairwise_degree_dist(pg, 'gwas_snp', 'disease_efo_id', 'GWAS SNP', 'Disease')"
   ]
  }
 ],
 "metadata": {
  "kernelspec": {
   "display_name": "Python 3",
   "language": "python",
   "name": "python3"
  },
  "language_info": {
   "codemirror_mode": {
    "name": "ipython",
    "version": 3
   },
   "file_extension": ".py",
   "mimetype": "text/x-python",
   "name": "python",
   "nbconvert_exporter": "python",
   "pygments_lexer": "ipython3",
   "version": "3.6.1"
  },
  "papermill": {
   "duration": 31.516047,
   "end_time": "2019-01-10T10:58:41.396985",
   "environment_variables": {},
   "exception": false,
   "output_path": "./__reports__/postgap.20180817.asthma.txt.gz.REPORT.20190110105809.ipynb",
   "parameters": {
    "filename": "./sample_data/postgap.20180817.asthma.txt.gz"
   },
   "start_time": "2019-01-10T10:58:09.880938",
   "version": "0.12.1"
  }
 },
 "nbformat": 4,
 "nbformat_minor": 2
}